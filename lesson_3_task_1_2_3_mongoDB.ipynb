{
 "cells": [
  {
   "cell_type": "code",
   "execution_count": 323,
   "metadata": {},
   "outputs": [],
   "source": [
    "from pymongo import MongoClient\n",
    "from pprint import pprint\n",
    "import re"
   ]
  },
  {
   "cell_type": "code",
   "execution_count": 324,
   "metadata": {},
   "outputs": [],
   "source": [
    "from bs4 import BeautifulSoup as bs\n",
    "import requests\n",
    "import numpy as np\n",
    "from pprint import pprint\n"
   ]
  },
  {
   "cell_type": "markdown",
   "metadata": {},
   "source": [
    "# MongoDB"
   ]
  },
  {
   "cell_type": "code",
   "execution_count": 325,
   "metadata": {},
   "outputs": [],
   "source": [
    "client = MongoClient('localhost',27017)"
   ]
  },
  {
   "cell_type": "code",
   "execution_count": 326,
   "metadata": {},
   "outputs": [],
   "source": [
    "#указатель на базу данных \n",
    "db = client['Jobs_and_salary']"
   ]
  },
  {
   "cell_type": "code",
   "execution_count": 327,
   "metadata": {},
   "outputs": [],
   "source": [
    "jobs_hh = db.hh\n",
    "jobs_sj = db.sj"
   ]
  },
  {
   "cell_type": "markdown",
   "metadata": {},
   "source": [
    "# Подключаемся к сайту hh.ru"
   ]
  },
  {
   "cell_type": "code",
   "execution_count": 368,
   "metadata": {},
   "outputs": [],
   "source": [
    "def max_number_page_HH():\n",
    "    \n",
    "    \n",
    "    \"\"\"\"\n",
    "    Возвращает максимальное количество страниц на сайте. \n",
    "    если страница одна , то блока со страницами нет, тогда возвраащет [1] \n",
    "    \n",
    "    \"\"\"\n",
    "    \n",
    "    main_link_hh = 'https://hh.ru/'\n",
    "\n",
    "    headers = {'User-Agent':'Mozilla/5.0 (Windows NT 10.0; Win64; x64) \\\n",
    "                            AppleWebKit/537.36 (KHTML, like Gecko)\\\n",
    "                            Chrome/83.0.4103.116 Safari/537.36'}\n",
    "\n",
    "\n",
    "\n",
    "    params = {'order_by':'publication_time',\n",
    "         'items_on_page':100,\n",
    "          \"currency_code\":\"RUR\",\n",
    "          \"area\":113\n",
    "         }\n",
    "\n",
    "    html = requests.get(main_link_hh + 'search/vacancy/' , headers = headers, params = params)\n",
    "\n",
    "    soup = bs(html.text,'html.parser')\n",
    "\n",
    "    count_block = soup.find('div',{'data-qa':'pager-block'})\n",
    "    \n",
    "    if count_block:\n",
    "        \n",
    "        max_count_list = count_block.find_all('a',{'class':'bloko-button'})[-2].getText()\n",
    "        \n",
    "    else:\n",
    "        \n",
    "        return np.array(1)\n",
    "    \n",
    "\n",
    "    return np.arange(1,int(max_count_list)+1)"
   ]
  },
  {
   "cell_type": "code",
   "execution_count": 369,
   "metadata": {},
   "outputs": [
    {
     "data": {
      "text/plain": [
       "array([ 1,  2,  3,  4,  5,  6,  7,  8,  9, 10, 11, 12, 13, 14, 15, 16, 17,\n",
       "       18, 19, 20])"
      ]
     },
     "execution_count": 369,
     "metadata": {},
     "output_type": "execute_result"
    }
   ],
   "source": [
    "max_number_page_HH()"
   ]
  },
  {
   "cell_type": "code",
   "execution_count": null,
   "metadata": {},
   "outputs": [],
   "source": []
  },
  {
   "cell_type": "code",
   "execution_count": null,
   "metadata": {},
   "outputs": [],
   "source": []
  },
  {
   "cell_type": "code",
   "execution_count": 370,
   "metadata": {},
   "outputs": [],
   "source": [
    "all_pages = max_number_page_HH()"
   ]
  },
  {
   "cell_type": "code",
   "execution_count": 397,
   "metadata": {},
   "outputs": [
    {
     "name": "stdout",
     "output_type": "stream",
     "text": [
      "OK\n"
     ]
    }
   ],
   "source": [
    "\n",
    "\n",
    "for page in all_pages:\n",
    "    params = {'order_by':'publication_time',\n",
    "         'items_on_page':100,\n",
    "          \"currency_code\":\"RUR\",\n",
    "          \"area\":113,\n",
    "        'page':page-1\n",
    "         }\n",
    "\n",
    "        \n",
    "    main_link_hh = 'https://hh.ru'\n",
    "\n",
    "    headers = {'User-Agent':'Mozilla/5.0 (Windows NT 10.0; Win64; x64) \\\n",
    "                                AppleWebKit/537.36 (KHTML, like Gecko)\\\n",
    "                                Chrome/83.0.4103.116 Safari/537.36'}\n",
    "    \n",
    "    response = requests.get(main_link_hh +'/search/vacancy', headers = headers, params = params)\n",
    "\n",
    "\n",
    "    soup = bs(response.text,'html.parser')\n",
    "\n",
    "    vacancy_block = soup.find('div',{'class':'vacancy-serp'})\n",
    "\n",
    "    vacancy_pars = vacancy_block.find_all('div',{'class':'vacancy-serp-item'})\n",
    "\n",
    "\n",
    "    for i in vacancy_pars:\n",
    "        ##\n",
    "        vacancy_name = i.find('a',{'class':'bloko-link'}).getText()\n",
    "        vacancy_name = vacancy_name.replace('\\xa0','')\n",
    "\n",
    "        ##\n",
    "        vacancy_id = i.find('a', {'class':'search-resume-item-label'})['href'].split('=')[-1]\n",
    "\n",
    "\n",
    "        ##\n",
    "        vacancy_employer = i.find('div',{'class':'vacancy-serp-item__meta-info'}).getText()\n",
    "\n",
    "\n",
    "        ##\n",
    "        employer_id = i.find('a',{'class':'bloko-link'})['href']\n",
    "\n",
    "        if '?' in employer_id:\n",
    "            employer_id = employer_id[:employer_id.index('?')].split('/')[-1]\n",
    "\n",
    "        else:\n",
    "            employer_id = employer_id.split('/')[-1]\n",
    "\n",
    "\n",
    "        ##\n",
    "        city = i.find('span',{'class':'vacancy-serp-item__meta-info'}).getText()\n",
    "        city = city.split(', ')[0]\n",
    "\n",
    "\n",
    "        ##\n",
    "        salary_all = i.find('div',{'class':'vacancy-serp-item__sidebar'})\n",
    "        min_salary = np.nan\n",
    "        max_salary = np.nan\n",
    "        \n",
    "        if salary_all.getText():\n",
    "            salary_all = salary_all.getText()\n",
    "            currency = salary_all[-4:]\n",
    "            salary_all = salary_all[:-4]\n",
    "            if '-' in salary_all:\n",
    "                min_salary = salary_all.split('-')[0].replace('\\xa0','')\n",
    "                max_salary = salary_all.split('-')[1].replace('\\xa0','')\n",
    "            elif 'от' in salary_all:\n",
    "                min_salary = salary_all.replace('от ','')\n",
    "                min_salary = min_salary.replace('\\xa0','')\n",
    "                \n",
    "            elif 'до' in salary_all:\n",
    "                max_salary = salary_all.replace('до ','')\n",
    "                max_salary = max_salary.replace('\\xa0','')\n",
    "                max_salary = max_salary.replace(' ','')\n",
    "        else:\n",
    "            salary_all = np.nan\n",
    "            currency = np.nan  \n",
    "\n",
    "        # Использовал try для исключение одинаковых id по вакансиям. \n",
    "        # есдинсвенную ошибку могу поймать если _id уже существует\n",
    "        # И при новом запуске я добавляю вакансии которых еще нет у меня остальные не добалсяются \n",
    "        try:\n",
    "            jobs_hh.insert_one({'_id':vacancy_id,\n",
    "                                'vacancion_name':vacancy_name,\n",
    "                                'min_salary':float(min_salary),\n",
    "                                'max_salary': float(max_salary),\n",
    "                                'city':city,\n",
    "                                'company':vacancy_employer,\n",
    "                                'currency':currency,\n",
    "                                'website':'hh.ru'})\n",
    "        except:\n",
    "            continue\n",
    "print('OK')"
   ]
  },
  {
   "cell_type": "code",
   "execution_count": 399,
   "metadata": {},
   "outputs": [
    {
     "name": "stdout",
     "output_type": "stream",
     "text": [
      "2040\n"
     ]
    }
   ],
   "source": [
    "# Счетчик для вакансий\n",
    "# показано , сколько всего вакансия собрано на момент 06.07.2020 в 20:15\n",
    "j = 0\n",
    "for i in jobs_hh.find({}):\n",
    "    j+=1\n",
    "print(j)"
   ]
  },
  {
   "cell_type": "code",
   "execution_count": null,
   "metadata": {},
   "outputs": [],
   "source": []
  },
  {
   "cell_type": "code",
   "execution_count": 384,
   "metadata": {},
   "outputs": [
    {
     "name": "stdout",
     "output_type": "stream",
     "text": [
      "Введите количество ЗП: 500000\n"
     ]
    }
   ],
   "source": [
    "my_salary = int(input('Введите количество ЗП: '))"
   ]
  },
  {
   "cell_type": "code",
   "execution_count": 385,
   "metadata": {},
   "outputs": [
    {
     "name": "stdout",
     "output_type": "stream",
     "text": [
      "{'_id': '36880808',\n",
      " 'city': 'Москва',\n",
      " 'company': 'ООО Московский Аукционный Дом Недвижимости\\xa0',\n",
      " 'currency': 'руб.',\n",
      " 'max_salary': 700000.0,\n",
      " 'min_salary': 200000.0,\n",
      " 'vacancion_name': 'Экспертпо продажам премиальной недвижимости',\n",
      " 'website': 'hh.ru'}\n",
      "{'_id': '35133202',\n",
      " 'city': 'Москва',\n",
      " 'company': ' Этажи, федеральная компания\\xa0',\n",
      " 'currency': 'руб.',\n",
      " 'max_salary': 700000.0,\n",
      " 'min_salary': 120000.0,\n",
      " 'vacancion_name': 'Специалист по продаже недвижимости',\n",
      " 'website': 'hh.ru'}\n"
     ]
    }
   ],
   "source": [
    "for i in jobs_hh.find( {'$or': [ { 'max_salary': { '$gt': my_salary } }, { 'min_salary':{'$gt':my_salary}} ] }):\n",
    "    pprint(i)"
   ]
  },
  {
   "cell_type": "code",
   "execution_count": null,
   "metadata": {},
   "outputs": [],
   "source": []
  }
 ],
 "metadata": {
  "kernelspec": {
   "display_name": "Python 3",
   "language": "python",
   "name": "python3"
  },
  "language_info": {
   "codemirror_mode": {
    "name": "ipython",
    "version": 3
   },
   "file_extension": ".py",
   "mimetype": "text/x-python",
   "name": "python",
   "nbconvert_exporter": "python",
   "pygments_lexer": "ipython3",
   "version": "3.7.6"
  }
 },
 "nbformat": 4,
 "nbformat_minor": 4
}
